{
 "cells": [
  {
   "cell_type": "code",
   "execution_count": 185,
   "metadata": {
    "ExecuteTime": {
     "end_time": "2023-09-01T13:08:04.306751Z",
     "start_time": "2023-09-01T13:08:04.284097Z"
    },
    "collapsed": true
   },
   "outputs": [],
   "source": [
    "import pandas as pd\n",
    "from sklearn.feature_extraction.text import TfidfVectorizer\n",
    "import numpy as np"
   ]
  },
  {
   "cell_type": "markdown",
   "metadata": {
    "collapsed": false
   },
   "source": [
    "## Data Collection and Cleaning"
   ]
  },
  {
   "cell_type": "code",
   "execution_count": 186,
   "metadata": {
    "ExecuteTime": {
     "end_time": "2023-09-01T13:08:05.747762Z",
     "start_time": "2023-09-01T13:08:05.649554Z"
    },
    "collapsed": true
   },
   "outputs": [],
   "source": [
    "data = pd.read_csv('final_dataset.csv')"
   ]
  },
  {
   "cell_type": "code",
   "execution_count": 187,
   "metadata": {
    "ExecuteTime": {
     "end_time": "2023-09-01T13:08:06.585819Z",
     "start_time": "2023-09-01T13:08:06.562539Z"
    },
    "collapsed": true
   },
   "outputs": [],
   "source": [
    "data.dropna(subset=['text'], inplace=True)\n",
    "data=data[data.index%2==0]"
   ]
  },
  {
   "cell_type": "code",
   "execution_count": 188,
   "metadata": {
    "ExecuteTime": {
     "end_time": "2023-09-01T13:08:07.169399Z",
     "start_time": "2023-09-01T13:08:07.141079Z"
    },
    "collapsed": false
   },
   "outputs": [],
   "source": [
    "data = data.fillna(\"null\")"
   ]
  },
  {
   "cell_type": "code",
   "execution_count": 189,
   "metadata": {
    "ExecuteTime": {
     "end_time": "2023-09-01T13:08:08.073654Z",
     "start_time": "2023-09-01T13:08:07.792147Z"
    },
    "collapsed": true
   },
   "outputs": [
    {
     "name": "stderr",
     "output_type": "stream",
     "text": [
      "/var/folders/xf/x7cs08dj7m1fywp7z_4yjygc0000gn/T/ipykernel_10311/1545098342.py:1: FutureWarning: The default value of regex will change from True to False in a future version.\n",
      "  data[\"text\"]=data.text.str.replace(r'^b','')\n",
      "/var/folders/xf/x7cs08dj7m1fywp7z_4yjygc0000gn/T/ipykernel_10311/1545098342.py:2: FutureWarning: The default value of regex will change from True to False in a future version.\n",
      "  data[\"text\"]=data.text.str.replace(r'https?:\\/\\/.*\\/[a-zA-Z0-9]*', '')\n",
      "/var/folders/xf/x7cs08dj7m1fywp7z_4yjygc0000gn/T/ipykernel_10311/1545098342.py:3: FutureWarning: The default value of regex will change from True to False in a future version.\n",
      "  data[\"text\"]=data.text.str.replace(r'@[a-zA-Z0-9]{1,10}', '')\n",
      "/var/folders/xf/x7cs08dj7m1fywp7z_4yjygc0000gn/T/ipykernel_10311/1545098342.py:4: FutureWarning: The default value of regex will change from True to False in a future version.\n",
      "  data[\"text\"]=data.text.str.replace(r'\\$[a-zA-Z0-9]*', '')\n",
      "/var/folders/xf/x7cs08dj7m1fywp7z_4yjygc0000gn/T/ipykernel_10311/1545098342.py:5: FutureWarning: The default value of regex will change from True to False in a future version.\n",
      "  data[\"text\"]=data.text.str.replace(r'[0-9]*','')\n",
      "/var/folders/xf/x7cs08dj7m1fywp7z_4yjygc0000gn/T/ipykernel_10311/1545098342.py:6: FutureWarning: The default value of regex will change from True to False in a future version.\n",
      "  data[\"text\"]=data.text.str.replace(r'\\\\[a-z A-Z]{1,2}','')\n",
      "/var/folders/xf/x7cs08dj7m1fywp7z_4yjygc0000gn/T/ipykernel_10311/1545098342.py:7: FutureWarning: The default value of regex will change from True to False in a future version.\n",
      "  data[\"text\"]=data.text.str.replace(r'\\:','')\n",
      "/var/folders/xf/x7cs08dj7m1fywp7z_4yjygc0000gn/T/ipykernel_10311/1545098342.py:8: FutureWarning: The default value of regex will change from True to False in a future version.\n",
      "  data[\"text\"]=data.text.str.replace(r'\\\\n','')\n",
      "/var/folders/xf/x7cs08dj7m1fywp7z_4yjygc0000gn/T/ipykernel_10311/1545098342.py:9: FutureWarning: The default value of regex will change from True to False in a future version.\n",
      "  data[\"text\"]=data.text.str.replace(r'\\#','')\n",
      "/var/folders/xf/x7cs08dj7m1fywp7z_4yjygc0000gn/T/ipykernel_10311/1545098342.py:10: FutureWarning: The default value of regex will change from True to False in a future version.\n",
      "  data[\"text\"]=data.text.str.replace(r'\\/','')\n",
      "/var/folders/xf/x7cs08dj7m1fywp7z_4yjygc0000gn/T/ipykernel_10311/1545098342.py:11: FutureWarning: The default value of regex will change from True to False in a future version.\n",
      "  data[\"text\"]=data.text.str.replace(r'\\'','')\n",
      "/var/folders/xf/x7cs08dj7m1fywp7z_4yjygc0000gn/T/ipykernel_10311/1545098342.py:12: FutureWarning: The default value of regex will change from True to False in a future version.\n",
      "  data[\"text\"]=data.text.str.replace(r'\\\"','')\n",
      "/var/folders/xf/x7cs08dj7m1fywp7z_4yjygc0000gn/T/ipykernel_10311/1545098342.py:13: FutureWarning: The default value of regex will change from True to False in a future version.\n",
      "  data[\"text\"]=data.text.str.replace(r'\\-','')\n",
      "/var/folders/xf/x7cs08dj7m1fywp7z_4yjygc0000gn/T/ipykernel_10311/1545098342.py:14: FutureWarning: The default value of regex will change from True to False in a future version.\n",
      "  data[\"text\"]=data.text.str.replace(r'\\?','')\n",
      "/var/folders/xf/x7cs08dj7m1fywp7z_4yjygc0000gn/T/ipykernel_10311/1545098342.py:15: FutureWarning: The default value of regex will change from True to False in a future version.\n",
      "  data[\"text\"]=data.text.str.replace(r'\\_','')\n",
      "/var/folders/xf/x7cs08dj7m1fywp7z_4yjygc0000gn/T/ipykernel_10311/1545098342.py:17: FutureWarning: The default value of regex will change from True to False in a future version.\n",
      "  data[\"text\"]=data.text.str.replace(r'\\,','')\n",
      "/var/folders/xf/x7cs08dj7m1fywp7z_4yjygc0000gn/T/ipykernel_10311/1545098342.py:18: FutureWarning: The default value of regex will change from True to False in a future version. In addition, single character regular expressions will *not* be treated as literal strings when regex=True.\n",
      "  data[\"text\"]=data.text.str.replace(r'.','')\n",
      "/var/folders/xf/x7cs08dj7m1fywp7z_4yjygc0000gn/T/ipykernel_10311/1545098342.py:19: FutureWarning: The default value of regex will change from True to False in a future version.\n",
      "  data[\"text\"]=data.text.str.replace(r'\\&amp','')\n",
      "/var/folders/xf/x7cs08dj7m1fywp7z_4yjygc0000gn/T/ipykernel_10311/1545098342.py:22: FutureWarning: The default value of regex will change from True to False in a future version.\n",
      "  data[\"text\"]=data.text.str.replace(r'\\\\s','')\n",
      "/var/folders/xf/x7cs08dj7m1fywp7z_4yjygc0000gn/T/ipykernel_10311/1545098342.py:23: FutureWarning: The default value of regex will change from True to False in a future version.\n",
      "  data[\"text\"]=data.text.str.replace(r'\\)','')\n",
      "/var/folders/xf/x7cs08dj7m1fywp7z_4yjygc0000gn/T/ipykernel_10311/1545098342.py:24: FutureWarning: The default value of regex will change from True to False in a future version.\n",
      "  data[\"text\"]=data.text.str.replace(r'\\(','')\n",
      "/var/folders/xf/x7cs08dj7m1fywp7z_4yjygc0000gn/T/ipykernel_10311/1545098342.py:25: FutureWarning: The default value of regex will change from True to False in a future version.\n",
      "  data[\"text\"]=data.text.str.replace(r'\\+','')\n",
      "/var/folders/xf/x7cs08dj7m1fywp7z_4yjygc0000gn/T/ipykernel_10311/1545098342.py:26: FutureWarning: The default value of regex will change from True to False in a future version.\n",
      "  data[\"text\"]=data.text.str.replace(r'\\=','')\n"
     ]
    }
   ],
   "source": [
    "data[\"text\"]=data.text.str.replace(r'^b','')\n",
    "data[\"text\"]=data.text.str.replace(r'https?:\\/\\/.*\\/[a-zA-Z0-9]*', '') \n",
    "data[\"text\"]=data.text.str.replace(r'@[a-zA-Z0-9]{1,10}', '') \n",
    "data[\"text\"]=data.text.str.replace(r'\\$[a-zA-Z0-9]*', '')\n",
    "data[\"text\"]=data.text.str.replace(r'[0-9]*','')\n",
    "data[\"text\"]=data.text.str.replace(r'\\\\[a-z A-Z]{1,2}','')\n",
    "data[\"text\"]=data.text.str.replace(r'\\:','')\n",
    "data[\"text\"]=data.text.str.replace(r'\\\\n','')\n",
    "data[\"text\"]=data.text.str.replace(r'\\#','')\n",
    "data[\"text\"]=data.text.str.replace(r'\\/','')\n",
    "data[\"text\"]=data.text.str.replace(r'\\'','')\n",
    "data[\"text\"]=data.text.str.replace(r'\\\"','')\n",
    "data[\"text\"]=data.text.str.replace(r'\\-','')\n",
    "data[\"text\"]=data.text.str.replace(r'\\?','')\n",
    "data[\"text\"]=data.text.str.replace(r'\\_','')\n",
    "data[\"text\"]=data.text.str.replace(r'%','')\n",
    "data[\"text\"]=data.text.str.replace(r'\\,','')\n",
    "data[\"text\"]=data.text.str.replace(r'.','')\n",
    "data[\"text\"]=data.text.str.replace(r'\\&amp','')\n",
    "data[\"text\"]=data.text.str.replace(r';','')\n",
    "data[\"text\"]=data.text.str.replace(r'!','')\n",
    "data[\"text\"]=data.text.str.replace(r'\\\\s','')\n",
    "data[\"text\"]=data.text.str.replace(r'\\)','')\n",
    "data[\"text\"]=data.text.str.replace(r'\\(','')\n",
    "data[\"text\"]=data.text.str.replace(r'\\+','')\n",
    "data[\"text\"]=data.text.str.replace(r'\\=','')"
   ]
  },
  {
   "cell_type": "markdown",
   "metadata": {
    "collapsed": false
   },
   "source": [
    "## Naive Bayes"
   ]
  },
  {
   "cell_type": "code",
   "execution_count": 190,
   "metadata": {
    "ExecuteTime": {
     "end_time": "2023-09-01T13:08:10.352728Z",
     "start_time": "2023-09-01T13:08:10.334053Z"
    },
    "collapsed": true
   },
   "outputs": [],
   "source": [
    "vectorizer = TfidfVectorizer(min_df=2,max_df=0.9,lowercase=bool(int),stop_words=\"english\")"
   ]
  },
  {
   "cell_type": "code",
   "execution_count": 191,
   "metadata": {
    "ExecuteTime": {
     "end_time": "2023-09-01T13:08:11.873267Z",
     "start_time": "2023-09-01T13:08:10.887589Z"
    },
    "collapsed": true
   },
   "outputs": [],
   "source": [
    "X = vectorizer.fit_transform(data.text.values.astype('U'))\n",
    "y=data.emotion\n",
    "data['X']=list(X)\n",
    "data['y']=data.emotion"
   ]
  },
  {
   "cell_type": "code",
   "execution_count": 192,
   "metadata": {
    "ExecuteTime": {
     "end_time": "2023-09-01T13:08:11.890077Z",
     "start_time": "2023-09-01T13:08:11.878358Z"
    }
   },
   "outputs": [
    {
     "data": {
      "text/html": [
       "<style>#sk-container-id-17 {color: black;background-color: white;}#sk-container-id-17 pre{padding: 0;}#sk-container-id-17 div.sk-toggleable {background-color: white;}#sk-container-id-17 label.sk-toggleable__label {cursor: pointer;display: block;width: 100%;margin-bottom: 0;padding: 0.3em;box-sizing: border-box;text-align: center;}#sk-container-id-17 label.sk-toggleable__label-arrow:before {content: \"▸\";float: left;margin-right: 0.25em;color: #696969;}#sk-container-id-17 label.sk-toggleable__label-arrow:hover:before {color: black;}#sk-container-id-17 div.sk-estimator:hover label.sk-toggleable__label-arrow:before {color: black;}#sk-container-id-17 div.sk-toggleable__content {max-height: 0;max-width: 0;overflow: hidden;text-align: left;background-color: #f0f8ff;}#sk-container-id-17 div.sk-toggleable__content pre {margin: 0.2em;color: black;border-radius: 0.25em;background-color: #f0f8ff;}#sk-container-id-17 input.sk-toggleable__control:checked~div.sk-toggleable__content {max-height: 200px;max-width: 100%;overflow: auto;}#sk-container-id-17 input.sk-toggleable__control:checked~label.sk-toggleable__label-arrow:before {content: \"▾\";}#sk-container-id-17 div.sk-estimator input.sk-toggleable__control:checked~label.sk-toggleable__label {background-color: #d4ebff;}#sk-container-id-17 div.sk-label input.sk-toggleable__control:checked~label.sk-toggleable__label {background-color: #d4ebff;}#sk-container-id-17 input.sk-hidden--visually {border: 0;clip: rect(1px 1px 1px 1px);clip: rect(1px, 1px, 1px, 1px);height: 1px;margin: -1px;overflow: hidden;padding: 0;position: absolute;width: 1px;}#sk-container-id-17 div.sk-estimator {font-family: monospace;background-color: #f0f8ff;border: 1px dotted black;border-radius: 0.25em;box-sizing: border-box;margin-bottom: 0.5em;}#sk-container-id-17 div.sk-estimator:hover {background-color: #d4ebff;}#sk-container-id-17 div.sk-parallel-item::after {content: \"\";width: 100%;border-bottom: 1px solid gray;flex-grow: 1;}#sk-container-id-17 div.sk-label:hover label.sk-toggleable__label {background-color: #d4ebff;}#sk-container-id-17 div.sk-serial::before {content: \"\";position: absolute;border-left: 1px solid gray;box-sizing: border-box;top: 0;bottom: 0;left: 50%;z-index: 0;}#sk-container-id-17 div.sk-serial {display: flex;flex-direction: column;align-items: center;background-color: white;padding-right: 0.2em;padding-left: 0.2em;position: relative;}#sk-container-id-17 div.sk-item {position: relative;z-index: 1;}#sk-container-id-17 div.sk-parallel {display: flex;align-items: stretch;justify-content: center;background-color: white;position: relative;}#sk-container-id-17 div.sk-item::before, #sk-container-id-17 div.sk-parallel-item::before {content: \"\";position: absolute;border-left: 1px solid gray;box-sizing: border-box;top: 0;bottom: 0;left: 50%;z-index: -1;}#sk-container-id-17 div.sk-parallel-item {display: flex;flex-direction: column;z-index: 1;position: relative;background-color: white;}#sk-container-id-17 div.sk-parallel-item:first-child::after {align-self: flex-end;width: 50%;}#sk-container-id-17 div.sk-parallel-item:last-child::after {align-self: flex-start;width: 50%;}#sk-container-id-17 div.sk-parallel-item:only-child::after {width: 0;}#sk-container-id-17 div.sk-dashed-wrapped {border: 1px dashed gray;margin: 0 0.4em 0.5em 0.4em;box-sizing: border-box;padding-bottom: 0.4em;background-color: white;}#sk-container-id-17 div.sk-label label {font-family: monospace;font-weight: bold;display: inline-block;line-height: 1.2em;}#sk-container-id-17 div.sk-label-container {text-align: center;}#sk-container-id-17 div.sk-container {/* jupyter's `normalize.less` sets `[hidden] { display: none; }` but bootstrap.min.css set `[hidden] { display: none !important; }` so we also need the `!important` here to be able to override the default hidden behavior on the sphinx rendered scikit-learn.org. See: https://github.com/scikit-learn/scikit-learn/issues/21755 */display: inline-block !important;position: relative;}#sk-container-id-17 div.sk-text-repr-fallback {display: none;}</style><div id=\"sk-container-id-17\" class=\"sk-top-container\"><div class=\"sk-text-repr-fallback\"><pre>MultinomialNB()</pre><b>In a Jupyter environment, please rerun this cell to show the HTML representation or trust the notebook. <br />On GitHub, the HTML representation is unable to render, please try loading this page with nbviewer.org.</b></div><div class=\"sk-container\" hidden><div class=\"sk-item\"><div class=\"sk-estimator sk-toggleable\"><input class=\"sk-toggleable__control sk-hidden--visually\" id=\"sk-estimator-id-17\" type=\"checkbox\" checked><label for=\"sk-estimator-id-17\" class=\"sk-toggleable__label sk-toggleable__label-arrow\">MultinomialNB</label><div class=\"sk-toggleable__content\"><pre>MultinomialNB()</pre></div></div></div></div></div>"
      ],
      "text/plain": [
       "MultinomialNB()"
      ]
     },
     "execution_count": 192,
     "metadata": {},
     "output_type": "execute_result"
    }
   ],
   "source": [
    "from sklearn.naive_bayes import MultinomialNB\n",
    "clf = MultinomialNB()\n",
    "clf.fit(X[0:875], y[0:875])"
   ]
  },
  {
   "cell_type": "code",
   "execution_count": 193,
   "metadata": {
    "ExecuteTime": {
     "end_time": "2023-09-01T13:08:13.631806Z",
     "start_time": "2023-09-01T13:08:13.608003Z"
    },
    "collapsed": true
   },
   "outputs": [],
   "source": [
    "result=[] \n",
    "result=clf.predict(X[0:4118])\n",
    "val=np.arange(0,8236,2)\n",
    "series=pd.Series(result,index=val)"
   ]
  },
  {
   "cell_type": "code",
   "execution_count": 194,
   "metadata": {
    "ExecuteTime": {
     "end_time": "2023-09-01T13:08:14.858819Z",
     "start_time": "2023-09-01T13:08:14.824278Z"
    },
    "collapsed": true
   },
   "outputs": [],
   "source": [
    "data[\"NaiveBayes\"]=series"
   ]
  },
  {
   "cell_type": "code",
   "execution_count": 195,
   "metadata": {
    "ExecuteTime": {
     "end_time": "2023-09-01T13:08:15.685977Z",
     "start_time": "2023-09-01T13:08:15.660694Z"
    }
   },
   "outputs": [
    {
     "data": {
      "text/plain": [
       "0.8605714285714285"
      ]
     },
     "execution_count": 195,
     "metadata": {},
     "output_type": "execute_result"
    }
   ],
   "source": [
    "from sklearn.metrics import accuracy_score\n",
    "data.head()\n",
    "data.index\n",
    "accuracy_score(series[0:875],y[0:875])"
   ]
  },
  {
   "cell_type": "code",
   "execution_count": 196,
   "metadata": {
    "ExecuteTime": {
     "end_time": "2023-09-01T13:08:16.448018Z",
     "start_time": "2023-09-01T13:08:16.428081Z"
    }
   },
   "outputs": [
    {
     "data": {
      "text/plain": [
       "0.9651741293532339"
      ]
     },
     "execution_count": 196,
     "metadata": {},
     "output_type": "execute_result"
    }
   ],
   "source": [
    "from sklearn.metrics import accuracy_score\n",
    "accuracy_score(series[876:1077],y[876:1077])"
   ]
  },
  {
   "cell_type": "markdown",
   "metadata": {
    "collapsed": false
   },
   "source": [
    "## Support Vector Machine"
   ]
  },
  {
   "cell_type": "code",
   "execution_count": 197,
   "metadata": {
    "ExecuteTime": {
     "end_time": "2023-09-01T13:08:18.850785Z",
     "start_time": "2023-09-01T13:08:18.736419Z"
    }
   },
   "outputs": [
    {
     "name": "stdout",
     "output_type": "stream",
     "text": [
      "[LibSVM]*.*\n",
      "optimization finished, #iter = 273\n",
      "obj = -48.777227, rho = 0.708473\n",
      "nSV = 166, nBSV = 35\n",
      "*\n",
      "optimization finished, #iter = 310\n",
      "obj = -32.789827, rho = 0.634518\n",
      "nSV = 203, nBSV = 19\n",
      "*.*\n",
      "optimization finished, #iter = 366\n",
      "obj = -51.249608, rho = 0.743631\n",
      "nSV = 195, nBSV = 37\n",
      "*.*\n",
      "optimization finished, #iter = 629\n",
      "obj = -68.948856, rho = 0.327927\n",
      "nSV = 314, nBSV = 33\n",
      "*\n",
      "optimization finished, #iter = 485\n",
      "obj = -208.699956, rho = 0.201468\n",
      "nSV = 380, nBSV = 216\n",
      "*.*\n",
      "optimization finished, #iter = 684\n",
      "obj = -73.157631, rho = -0.244859\n",
      "nSV = 330, nBSV = 33\n",
      "Total nSV = 688\n"
     ]
    },
    {
     "data": {
      "text/html": [
       "<style>#sk-container-id-18 {color: black;background-color: white;}#sk-container-id-18 pre{padding: 0;}#sk-container-id-18 div.sk-toggleable {background-color: white;}#sk-container-id-18 label.sk-toggleable__label {cursor: pointer;display: block;width: 100%;margin-bottom: 0;padding: 0.3em;box-sizing: border-box;text-align: center;}#sk-container-id-18 label.sk-toggleable__label-arrow:before {content: \"▸\";float: left;margin-right: 0.25em;color: #696969;}#sk-container-id-18 label.sk-toggleable__label-arrow:hover:before {color: black;}#sk-container-id-18 div.sk-estimator:hover label.sk-toggleable__label-arrow:before {color: black;}#sk-container-id-18 div.sk-toggleable__content {max-height: 0;max-width: 0;overflow: hidden;text-align: left;background-color: #f0f8ff;}#sk-container-id-18 div.sk-toggleable__content pre {margin: 0.2em;color: black;border-radius: 0.25em;background-color: #f0f8ff;}#sk-container-id-18 input.sk-toggleable__control:checked~div.sk-toggleable__content {max-height: 200px;max-width: 100%;overflow: auto;}#sk-container-id-18 input.sk-toggleable__control:checked~label.sk-toggleable__label-arrow:before {content: \"▾\";}#sk-container-id-18 div.sk-estimator input.sk-toggleable__control:checked~label.sk-toggleable__label {background-color: #d4ebff;}#sk-container-id-18 div.sk-label input.sk-toggleable__control:checked~label.sk-toggleable__label {background-color: #d4ebff;}#sk-container-id-18 input.sk-hidden--visually {border: 0;clip: rect(1px 1px 1px 1px);clip: rect(1px, 1px, 1px, 1px);height: 1px;margin: -1px;overflow: hidden;padding: 0;position: absolute;width: 1px;}#sk-container-id-18 div.sk-estimator {font-family: monospace;background-color: #f0f8ff;border: 1px dotted black;border-radius: 0.25em;box-sizing: border-box;margin-bottom: 0.5em;}#sk-container-id-18 div.sk-estimator:hover {background-color: #d4ebff;}#sk-container-id-18 div.sk-parallel-item::after {content: \"\";width: 100%;border-bottom: 1px solid gray;flex-grow: 1;}#sk-container-id-18 div.sk-label:hover label.sk-toggleable__label {background-color: #d4ebff;}#sk-container-id-18 div.sk-serial::before {content: \"\";position: absolute;border-left: 1px solid gray;box-sizing: border-box;top: 0;bottom: 0;left: 50%;z-index: 0;}#sk-container-id-18 div.sk-serial {display: flex;flex-direction: column;align-items: center;background-color: white;padding-right: 0.2em;padding-left: 0.2em;position: relative;}#sk-container-id-18 div.sk-item {position: relative;z-index: 1;}#sk-container-id-18 div.sk-parallel {display: flex;align-items: stretch;justify-content: center;background-color: white;position: relative;}#sk-container-id-18 div.sk-item::before, #sk-container-id-18 div.sk-parallel-item::before {content: \"\";position: absolute;border-left: 1px solid gray;box-sizing: border-box;top: 0;bottom: 0;left: 50%;z-index: -1;}#sk-container-id-18 div.sk-parallel-item {display: flex;flex-direction: column;z-index: 1;position: relative;background-color: white;}#sk-container-id-18 div.sk-parallel-item:first-child::after {align-self: flex-end;width: 50%;}#sk-container-id-18 div.sk-parallel-item:last-child::after {align-self: flex-start;width: 50%;}#sk-container-id-18 div.sk-parallel-item:only-child::after {width: 0;}#sk-container-id-18 div.sk-dashed-wrapped {border: 1px dashed gray;margin: 0 0.4em 0.5em 0.4em;box-sizing: border-box;padding-bottom: 0.4em;background-color: white;}#sk-container-id-18 div.sk-label label {font-family: monospace;font-weight: bold;display: inline-block;line-height: 1.2em;}#sk-container-id-18 div.sk-label-container {text-align: center;}#sk-container-id-18 div.sk-container {/* jupyter's `normalize.less` sets `[hidden] { display: none; }` but bootstrap.min.css set `[hidden] { display: none !important; }` so we also need the `!important` here to be able to override the default hidden behavior on the sphinx rendered scikit-learn.org. See: https://github.com/scikit-learn/scikit-learn/issues/21755 */display: inline-block !important;position: relative;}#sk-container-id-18 div.sk-text-repr-fallback {display: none;}</style><div id=\"sk-container-id-18\" class=\"sk-top-container\"><div class=\"sk-text-repr-fallback\"><pre>SVC(kernel=&#x27;linear&#x27;, verbose=3)</pre><b>In a Jupyter environment, please rerun this cell to show the HTML representation or trust the notebook. <br />On GitHub, the HTML representation is unable to render, please try loading this page with nbviewer.org.</b></div><div class=\"sk-container\" hidden><div class=\"sk-item\"><div class=\"sk-estimator sk-toggleable\"><input class=\"sk-toggleable__control sk-hidden--visually\" id=\"sk-estimator-id-18\" type=\"checkbox\" checked><label for=\"sk-estimator-id-18\" class=\"sk-toggleable__label sk-toggleable__label-arrow\">SVC</label><div class=\"sk-toggleable__content\"><pre>SVC(kernel=&#x27;linear&#x27;, verbose=3)</pre></div></div></div></div></div>"
      ],
      "text/plain": [
       "SVC(kernel='linear', verbose=3)"
      ]
     },
     "execution_count": 197,
     "metadata": {},
     "output_type": "execute_result"
    }
   ],
   "source": [
    "from sklearn import svm\n",
    "clf_svm = svm.SVC(kernel=\"linear\", verbose=3)\n",
    "clf_svm.fit(X[0:875], y[0:875])"
   ]
  },
  {
   "cell_type": "code",
   "execution_count": 198,
   "metadata": {
    "ExecuteTime": {
     "end_time": "2023-09-01T13:08:20.704781Z",
     "start_time": "2023-09-01T13:08:20.422981Z"
    },
    "collapsed": true
   },
   "outputs": [],
   "source": [
    "res=[]\n",
    "res=clf_svm.predict(X[0:4118])\n",
    "lis=np.arange(0,8236,2)\n",
    "ser=pd.Series(res,index=lis)\n",
    "data['SVM']=ser"
   ]
  },
  {
   "cell_type": "code",
   "execution_count": 199,
   "metadata": {
    "ExecuteTime": {
     "end_time": "2023-09-01T13:08:21.735922Z",
     "start_time": "2023-09-01T13:08:21.709308Z"
    }
   },
   "outputs": [
    {
     "data": {
      "text/plain": [
       "0.9462857142857143"
      ]
     },
     "execution_count": 199,
     "metadata": {},
     "output_type": "execute_result"
    }
   ],
   "source": [
    "accuracy_score(ser[0:875],y[0:875])"
   ]
  },
  {
   "cell_type": "code",
   "execution_count": 200,
   "metadata": {
    "ExecuteTime": {
     "end_time": "2023-09-01T13:08:22.768678Z",
     "start_time": "2023-09-01T13:08:22.742781Z"
    }
   },
   "outputs": [
    {
     "data": {
      "text/plain": [
       "1.0"
      ]
     },
     "execution_count": 200,
     "metadata": {},
     "output_type": "execute_result"
    }
   ],
   "source": [
    "accuracy_score(ser[876:1077],y[876:1077])"
   ]
  },
  {
   "cell_type": "code",
   "execution_count": 201,
   "metadata": {
    "ExecuteTime": {
     "end_time": "2023-09-01T13:08:23.973382Z",
     "start_time": "2023-09-01T13:08:23.939761Z"
    },
    "collapsed": true
   },
   "outputs": [],
   "source": [
    "%matplotlib inline"
   ]
  },
  {
   "cell_type": "code",
   "execution_count": 202,
   "metadata": {
    "ExecuteTime": {
     "end_time": "2023-09-01T13:08:25.039399Z",
     "start_time": "2023-09-01T13:08:25.004993Z"
    },
    "collapsed": true
   },
   "outputs": [],
   "source": [
    "import matplotlib.pyplot as plt"
   ]
  },
  {
   "cell_type": "code",
   "execution_count": 203,
   "metadata": {
    "ExecuteTime": {
     "end_time": "2023-09-01T13:08:26.129992Z",
     "start_time": "2023-09-01T13:08:25.751724Z"
    }
   },
   "outputs": [
    {
     "name": "stdout",
     "output_type": "stream",
     "text": [
      "Counter({'null': 336, 'positive': 305, 'neutral': 192, 'negative': 42})\n",
      "Counter({'positive': 390, 'null': 359, 'neutral': 119, 'negative': 7})\n"
     ]
    },
    {
     "data": {
      "image/png": "[encoded data removed]",
      "text/plain": [
       "<Figure size 640x480 with 1 Axes>"
      ]
     },
     "metadata": {},
     "output_type": "display_data"
    }
   ],
   "source": [
    "from collections import Counter\n",
    "c=Counter(y[:875])\n",
    "s=Counter(series[:875])\n",
    "print(c)\n",
    "print(s)\n",
    "n_groups=3\n",
    "yemo=(463,358,54)\n",
    "NBemo=(564,329,0)\n",
    "fig, ax = plt.subplots()\n",
    "index = np.arange(n_groups)\n",
    "bar_width = 0.20\n",
    "opacity = 0.8\n",
    "rects1 = plt.bar(index, yemo, bar_width,\n",
    "                 alpha=opacity,\n",
    "                 color='b',\n",
    "                 label='Actual sentiment of Train Data')\n",
    "rects2 = plt.bar(index + bar_width, NBemo, bar_width,\n",
    "                 alpha=opacity,\n",
    "                 color='g',\n",
    "                 label='Naive Bayes prediction Train Data')\n",
    "plt.xlabel('Sentiment')\n",
    "plt.ylabel('Count')\n",
    "plt.xticks(index + bar_width, ('Positive', 'Neutral', 'Negative'))\n",
    "plt.legend()\n",
    "plt.title('Accuracy of Naive Bayes Model- Train Data')\n",
    "plt.tight_layout()\n",
    "plt.show()"
   ]
  },
  {
   "cell_type": "code",
   "execution_count": 204,
   "metadata": {
    "ExecuteTime": {
     "end_time": "2023-09-01T13:08:28.939560Z",
     "start_time": "2023-09-01T13:08:28.662913Z"
    }
   },
   "outputs": [
    {
     "name": "stdout",
     "output_type": "stream",
     "text": [
      "Counter({'null': 201})\n",
      "Counter({'null': 194, 'positive': 7})\n"
     ]
    },
    {
     "data": {
      "image/png": "[encoded data removed]",
      "text/plain": [
       "<Figure size 640x480 with 1 Axes>"
      ]
     },
     "metadata": {},
     "output_type": "display_data"
    }
   ],
   "source": [
    "from collections import Counter\n",
    "ct=Counter(y[877:1078])\n",
    "st=Counter(series[876:1077])\n",
    "print(ct)\n",
    "print(st)\n",
    "n_groups=3\n",
    "ytestemo=(150,24,27)\n",
    "NBtestemo=(151,50,0)\n",
    "fig, ax = plt.subplots()\n",
    "index = np.arange(n_groups)\n",
    "bar_width = 0.20\n",
    "opacity = 0.8\n",
    "rects1 = plt.bar(index, ytestemo, bar_width,\n",
    "                 alpha=opacity,\n",
    "                 color='b',\n",
    "                 label='Actual sentiment of Test Data')\n",
    "rects2 = plt.bar(index + bar_width, NBtestemo,bar_width,\n",
    "                 alpha=opacity,\n",
    "                 color='g',\n",
    "                 label='Naive Bayes prediction of Test Data')\n",
    "plt.xlabel('Sentiment')\n",
    "plt.ylabel('Count')\n",
    "plt.xticks(index + bar_width, ('Positive', 'Neutral', 'Negative'))\n",
    "plt.legend()\n",
    "plt.title('Accuracy of Naive Bayes Model- Test Data')\n",
    "plt.tight_layout()\n",
    "plt.show()"
   ]
  },
  {
   "cell_type": "code",
   "execution_count": 205,
   "metadata": {
    "ExecuteTime": {
     "end_time": "2023-09-01T13:08:31.370012Z",
     "start_time": "2023-09-01T13:08:31.065053Z"
    }
   },
   "outputs": [
    {
     "name": "stdout",
     "output_type": "stream",
     "text": [
      "Counter({'null': 336, 'positive': 305, 'neutral': 192, 'negative': 42})\n",
      "Counter({'null': 343, 'positive': 324, 'neutral': 179, 'negative': 29})\n"
     ]
    },
    {
     "data": {
      "image/png": "[encoded data removed]",
      "text/plain": [
       "<Figure size 640x480 with 1 Axes>"
      ]
     },
     "metadata": {},
     "output_type": "display_data"
    }
   ],
   "source": [
    "from collections import Counter\n",
    "cs=Counter(y[:875])\n",
    "ss=Counter(ser[:875])\n",
    "print(cs)\n",
    "print(ss)\n",
    "n_groups=3\n",
    "yemo=(463,358,54)\n",
    "SVMemo=(462,377,36)\n",
    "fig, ax = plt.subplots()\n",
    "index = np.arange(n_groups)\n",
    "bar_width = 0.20\n",
    "opacity = 0.8\n",
    "rects1 = plt.bar(index, yemo, bar_width,\n",
    "                 alpha=opacity,\n",
    "                 color='b',\n",
    "                 label='Actual sentiment of Train Data')\n",
    "rects2 = plt.bar(index + bar_width, SVMemo,bar_width,\n",
    "                 alpha=opacity,\n",
    "                 color='g',\n",
    "                 label='SVM prediction of Train data')\n",
    "plt.xlabel('Sentiment')\n",
    "plt.ylabel('Count')\n",
    "plt.xticks(index + bar_width, ('Positive', 'Neutral', 'Negative'))\n",
    "plt.legend()\n",
    "plt.title('Accuracy of SVM Model- Train Data')\n",
    "plt.tight_layout()\n",
    "plt.show()"
   ]
  },
  {
   "cell_type": "code",
   "execution_count": 206,
   "metadata": {
    "ExecuteTime": {
     "end_time": "2023-09-01T13:08:33.057970Z",
     "start_time": "2023-09-01T13:08:32.741922Z"
    }
   },
   "outputs": [
    {
     "name": "stdout",
     "output_type": "stream",
     "text": [
      "Counter({'null': 202})\n",
      "Counter({'null': 201})\n"
     ]
    },
    {
     "data": {
      "image/png": "[encoded data removed]",
      "text/plain": [
       "<Figure size 640x480 with 1 Axes>"
      ]
     },
     "metadata": {},
     "output_type": "display_data"
    }
   ],
   "source": [
    "from collections import Counter\n",
    "ct=Counter(y[876:1078])\n",
    "st=Counter(ser[876:1077])\n",
    "print(ct)\n",
    "print(st)\n",
    "n_groups=3\n",
    "ytestemo=(150,28,24)\n",
    "SVMtestemo=(141,60,0)\n",
    "fig, ax = plt.subplots()\n",
    "index = np.arange(n_groups)\n",
    "bar_width = 0.20\n",
    "opacity = 0.8\n",
    "rects1 = plt.bar(index, ytestemo, bar_width,\n",
    "                 alpha=opacity,\n",
    "                 color='b',\n",
    "                 label='Actual sentiment of Test Data')\n",
    "rects2 = plt.bar(index + bar_width, SVMtestemo,bar_width,\n",
    "                 alpha=opacity,\n",
    "                 color='g',\n",
    "                 label='SVM prediction of Test Data')\n",
    "plt.xlabel('Sentiment')\n",
    "plt.ylabel('Count')\n",
    "plt.xticks(index + bar_width, ('Positive', 'Neutral', 'Negative'))\n",
    "plt.legend()\n",
    "plt.title('Accuracy of SVM Model- Test Data')\n",
    "plt.tight_layout()\n",
    "plt.show()"
   ]
  },
  {
   "cell_type": "code",
   "execution_count": 207,
   "metadata": {
    "ExecuteTime": {
     "end_time": "2023-09-01T13:08:33.922327Z",
     "start_time": "2023-09-01T13:08:33.895528Z"
    },
    "collapsed": true
   },
   "outputs": [],
   "source": [
    "val=(data.loc[data['emotion'] == 'negative'])"
   ]
  },
  {
   "cell_type": "code",
   "execution_count": 208,
   "metadata": {
    "ExecuteTime": {
     "end_time": "2023-09-01T13:08:35.084525Z",
     "start_time": "2023-09-01T13:08:35.055360Z"
    },
    "collapsed": true
   },
   "outputs": [],
   "source": [
    "v=(data.loc[data['SVM'] == 'negative'])"
   ]
  },
  {
   "cell_type": "code",
   "execution_count": 209,
   "metadata": {
    "ExecuteTime": {
     "end_time": "2023-09-01T13:08:36.914603Z",
     "start_time": "2023-09-01T13:08:36.892625Z"
    },
    "collapsed": true
   },
   "outputs": [],
   "source": [
    "from nltk.corpus import stopwords\n",
    "from nltk.tokenize import word_tokenize\n",
    "stop_words = set(stopwords.words('english'))\n",
    "wordfreq={}\n",
    "for tweet in val[\"text\"]:\n",
    "    word_tokens = word_tokenize(tweet)\n",
    "    filtered_sentence = [w for w in word_tokens if not w in stop_words]\n",
    "    filtered_sentence = []\n",
    "    for w in word_tokens:\n",
    "        if w not in stop_words:\n",
    "            if(w not in wordfreq):\n",
    "                wordfreq[w]=0\n",
    "            wordfreq[w]+=1\n",
    "#print(wordfreq)"
   ]
  },
  {
   "cell_type": "code",
   "execution_count": 210,
   "metadata": {
    "ExecuteTime": {
     "end_time": "2023-09-01T13:08:38.685799Z",
     "start_time": "2023-09-01T13:08:38.637268Z"
    }
   },
   "outputs": [
    {
     "data": {
      "text/plain": [
       "[('Incredibly', 1),\n",
       " ('Bad', 1),\n",
       " ('Idea', 1),\n",
       " ('Tesla', 1),\n",
       " ('completely', 1),\n",
       " ('missed', 1),\n",
       " ('goal', 1),\n",
       " ('production', 1),\n",
       " ('September', 1),\n",
       " ('Coverage', 1),\n",
       " ('SelfDrivingCarsho', 1),\n",
       " ('responsible', 1),\n",
       " ('crashes', 1),\n",
       " ('Insurance', 1),\n",
       " ('companies', 1),\n",
       " ('sure', 1),\n",
       " ('yet', 1),\n",
       " ('HarleyDavidson', 1),\n",
       " ('Is', 1),\n",
       " ('In', 1),\n",
       " ('Trouble', 1),\n",
       " ('To', 1),\n",
       " ('understand', 1),\n",
       " ('accidents', 1),\n",
       " ('State', 1),\n",
       " ('Of', 1),\n",
       " ('York', 1),\n",
       " ('Didnt', 1),\n",
       " ('Consult', 1),\n",
       " ('With', 1),\n",
       " ('shared', 1),\n",
       " ('robotaxis', 1),\n",
       " ('disrupt', 1),\n",
       " ('today', 1),\n",
       " ('sharedmobility', 1),\n",
       " ('market', 1),\n",
       " ('robotics', 1),\n",
       " ('report', 1),\n",
       " ('says', 1),\n",
       " ('long', 1),\n",
       " ('roll', 1),\n",
       " ('lead', 1),\n",
       " ('thousands', 1),\n",
       " ('preventable', 1),\n",
       " ('highway', 1),\n",
       " ('deaths', 1),\n",
       " ('Limited', 1),\n",
       " ('breakthrough', 1),\n",
       " ('autonomous', 1),\n",
       " ('vehicles', 1),\n",
       " ('AutonomousCar', 1),\n",
       " ('DriverlessCars', 1),\n",
       " ('VX', 1),\n",
       " ('ler', 1),\n",
       " ('Autonomousdriving', 1),\n",
       " ('Mobility', 1),\n",
       " ('months', 1),\n",
       " ('since', 1),\n",
       " ('reserved', 1),\n",
       " ('At', 1),\n",
       " ('least', 1),\n",
       " ('year', 1),\n",
       " ('away', 1),\n",
       " ('AWD', 1),\n",
       " ('version', 1),\n",
       " ('delivery', 1),\n",
       " ('probably', 1),\n",
       " ('NBC', 1),\n",
       " ('News', 1),\n",
       " ('Millions', 1),\n",
       " ('Professional', 1),\n",
       " ('Drivers', 1),\n",
       " ('Be', 1),\n",
       " ('Replaced', 1),\n",
       " ('Vehicles', 1),\n",
       " ('autonomouscar', 1),\n",
       " ('Can', 1),\n",
       " ('negotiate', 1),\n",
       " ('moral', 1),\n",
       " ('maze', 1),\n",
       " ('line', 1),\n",
       " ('Q', 1),\n",
       " ('investing', 1),\n",
       " ('wrong', 1),\n",
       " ('conversation', 1),\n",
       " ('How', 1),\n",
       " ('USA', 1),\n",
       " ('deal', 1),\n",
       " ('becoming', 1),\n",
       " ('automated', 1),\n",
       " ('POLITICOGenNext', 1),\n",
       " ('happen', 1),\n",
       " ('someone', 1),\n",
       " ('hacks', 1),\n",
       " ('If', 1),\n",
       " ('got', 1),\n",
       " ('software', 1),\n",
       " ('inside', 1),\n",
       " ('technology', 1),\n",
       " ('Does', 1),\n",
       " ('matter', 1),\n",
       " ('Most', 1),\n",
       " ('want', 1),\n",
       " ('point', 1),\n",
       " ('A', 1),\n",
       " ('B', 1),\n",
       " ('reliably', 1),\n",
       " ('low', 1),\n",
       " ('cost', 1),\n",
       " ('Its', 1),\n",
       " ('gon', 1),\n",
       " ('tough', 1),\n",
       " ('catch', 1),\n",
       " ('Google', 1),\n",
       " ('Approximately', 1),\n",
       " ('US', 1),\n",
       " ('bus', 1),\n",
       " ('taxi', 1),\n",
       " ('truck', 1),\n",
       " ('drive', 1),\n",
       " ('pointers', 1),\n",
       " ('arch', 1),\n",
       " ('Never', 1),\n",
       " ('Own', 1),\n",
       " ('Autonomous', 1),\n",
       " ('Vehicle', 1),\n",
       " ('Neither', 1),\n",
       " ('VfcMJlauEtwitter', 1),\n",
       " ('autonomousvehicles', 1),\n",
       " ('fund', 1),\n",
       " ('effort', 1),\n",
       " ('develop', 1),\n",
       " ('intelligent', 1),\n",
       " ('rather', 1),\n",
       " ('Security', 1),\n",
       " ('Researcher', 1),\n",
       " ('Shows', 1),\n",
       " ('Cheap', 1),\n",
       " ('Simple', 1),\n",
       " ('Way', 1),\n",
       " ('Hack', 1),\n",
       " ('Car', 1),\n",
       " ('p', 1),\n",
       " ('cybersecurity', 1),\n",
       " ('stopped', 1),\n",
       " ('Heres', 1),\n",
       " ('possible', 1),\n",
       " ('Another', 1),\n",
       " ('obstacle', 1),\n",
       " ('hackers', 1),\n",
       " ('googlecar', 1),\n",
       " ('cartech', 1),\n",
       " ('Do', 1),\n",
       " ('rich', 1),\n",
       " ('smart', 1),\n",
       " ('cities', 1),\n",
       " ('going', 1),\n",
       " ('around', 1),\n",
       " ('town', 1),\n",
       " ('sleeping', 1),\n",
       " ('self', 1),\n",
       " ('driving', 1),\n",
       " ('otWar', 1),\n",
       " ('Cant', 1),\n",
       " ('leave', 1),\n",
       " ('final', 1),\n",
       " ('decision', 1),\n",
       " ('life', 1),\n",
       " ('death', 1),\n",
       " ('programmers', 1),\n",
       " ('unaware', 1),\n",
       " ('facts', 1),\n",
       " ('ground', 1),\n",
       " ('Ban', 1),\n",
       " ('perfect', 1),\n",
       " ('human', 1),\n",
       " ('arent', 1),\n",
       " ('Waiting', 1),\n",
       " ('road', 1),\n",
       " ('cos', 1),\n",
       " ('Would', 1),\n",
       " ('go', 1),\n",
       " ('ride', 1),\n",
       " ('taxiSelfDrivingCars', 1),\n",
       " ('Taxis', 1),\n",
       " ('Waymo', 1),\n",
       " ('Why', 2),\n",
       " ('Model', 2),\n",
       " ('autonomouscars', 2),\n",
       " ('flyingcar', 2),\n",
       " ('New', 2),\n",
       " ('automotive', 2),\n",
       " ('Wan', 2),\n",
       " ('Save', 2),\n",
       " ('Lots', 2),\n",
       " ('Lives', 2),\n",
       " ('Put', 2),\n",
       " ('Imperfect', 2),\n",
       " ('Road', 2),\n",
       " ('ASAP', 2),\n",
       " ('waiting', 2),\n",
       " ('ConnectedCars', 2),\n",
       " ('Rules', 2),\n",
       " ('stuck', 2),\n",
       " ('park', 2),\n",
       " ('Watch', 2),\n",
       " ('disruption', 2),\n",
       " ('new', 2),\n",
       " ('industry', 2),\n",
       " ('AutonomousDriving', 2),\n",
       " ('tech', 2),\n",
       " ('SelfDriving', 2),\n",
       " ('driverless', 2),\n",
       " ('jobs', 2),\n",
       " ('What', 2),\n",
       " ('vulnerable', 2),\n",
       " ('hack', 2),\n",
       " ('time', 2),\n",
       " ('I', 2),\n",
       " ('get', 2),\n",
       " ('drivers', 2),\n",
       " ('people', 2),\n",
       " ('You', 2),\n",
       " ('pointer', 2),\n",
       " ('need', 2),\n",
       " ('car', 3),\n",
       " ('Will', 3),\n",
       " ('na', 3),\n",
       " ('brand', 3),\n",
       " ('laser', 3),\n",
       " ('selfdriving', 4),\n",
       " ('via', 4),\n",
       " ('cars', 6),\n",
       " ('willingness', 7),\n",
       " ('UK', 7),\n",
       " ('consumers', 7),\n",
       " ('pay', 7),\n",
       " ('vehicle', 7),\n",
       " ('automation', 7),\n",
       " ('declining', 7),\n",
       " ('b', 7),\n",
       " ('aut', 7),\n",
       " ('RT', 8),\n",
       " ('The', 9),\n",
       " ('selfdrivingcars', 16),\n",
       " ('SelfDrivingCars', 19)]"
      ]
     },
     "execution_count": 210,
     "metadata": {},
     "output_type": "execute_result"
    }
   ],
   "source": [
    "from operator import itemgetter\n",
    "sorted(wordfreq.items(), key=itemgetter(1))"
   ]
  }
 ],
 "metadata": {
  "kernelspec": {
   "display_name": "Python 3",
   "language": "python",
   "name": "python3"
  },
  "language_info": {
   "codemirror_mode": {
    "name": "ipython",
    "version": 3
   },
   "file_extension": ".py",
   "mimetype": "text/x-python",
   "name": "python",
   "nbconvert_exporter": "python",
   "pygments_lexer": "ipython3",
   "version": "3.6.3"
  }
 },
 "nbformat": 4,
 "nbformat_minor": 2
}
